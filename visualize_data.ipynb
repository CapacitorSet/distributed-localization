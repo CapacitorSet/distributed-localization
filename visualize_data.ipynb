{
 "cells": [
  {
   "cell_type": "code",
   "execution_count": 2,
   "metadata": {},
   "outputs": [],
   "source": [
    "import pandas as pd"
   ]
  },
  {
   "cell_type": "code",
   "execution_count": 3,
   "metadata": {},
   "outputs": [],
   "source": [
    "csv = \"csv_data/\"\n",
    "ist_ns = pd.read_csv(csv+\"nostubborn/ist.csv\", delimiter=';')\n",
    "dist_ns = pd.read_csv(csv+\"nostubborn/dist.csv\", delimiter=';')\n",
    "odist_ns = pd.read_csv(csv+\"nostubborn/o-dist.csv\", delimiter=';')\n",
    "\n",
    "ist_s = pd.read_csv(csv+\"stubborn/ist.csv\", delimiter=';')\n",
    "dist_s = pd.read_csv(csv+\"stubborn/dist.csv\", delimiter=';')\n",
    "odist_s = pd.read_csv(csv+\"stubborn/o-dist.csv\", delimiter=';')\n",
    "\n"
   ]
  },
  {
   "cell_type": "code",
   "execution_count": 9,
   "metadata": {},
   "outputs": [],
   "source": [
    "def style_pd(x, thres=0.1):\n",
    "    if x < -thres:\n",
    "        return \"background-color: red\"\n",
    "    elif x > thres:\n",
    "        return \"background-color: green\"\n",
    "    else:\n",
    "        return \"background-color: white\""
   ]
  },
  {
   "cell_type": "code",
   "execution_count": 12,
   "metadata": {},
   "outputs": [
    {
     "data": {
      "text/html": [
       "<style type=\"text/css\">\n",
       "#T_a597c_row0_col0, #T_a597c_row1_col1, #T_a597c_row1_col5, #T_a597c_row2_col2, #T_a597c_row3_col3, #T_a597c_row4_col4, #T_a597c_row5_col1, #T_a597c_row5_col5 {\n",
       "  background-color: green;\n",
       "}\n",
       "#T_a597c_row0_col1, #T_a597c_row0_col2, #T_a597c_row0_col3, #T_a597c_row0_col4, #T_a597c_row0_col5, #T_a597c_row1_col0, #T_a597c_row1_col2, #T_a597c_row1_col3, #T_a597c_row2_col0, #T_a597c_row2_col1, #T_a597c_row2_col3, #T_a597c_row2_col4, #T_a597c_row2_col5, #T_a597c_row3_col0, #T_a597c_row3_col1, #T_a597c_row3_col2, #T_a597c_row3_col4, #T_a597c_row3_col5, #T_a597c_row4_col0, #T_a597c_row4_col2, #T_a597c_row4_col3, #T_a597c_row4_col5, #T_a597c_row5_col0, #T_a597c_row5_col2, #T_a597c_row5_col3, #T_a597c_row5_col4 {\n",
       "  background-color: white;\n",
       "}\n",
       "#T_a597c_row1_col4, #T_a597c_row4_col1 {\n",
       "  background-color: red;\n",
       "}\n",
       "</style>\n",
       "<table id=\"T_a597c_\">\n",
       "  <thead>\n",
       "    <tr>\n",
       "      <th class=\"blank level0\" >&nbsp;</th>\n",
       "      <th class=\"col_heading level0 col0\" >seed</th>\n",
       "      <th class=\"col_heading level0 col1\" >num_sensors</th>\n",
       "      <th class=\"col_heading level0 col2\" >connection_distance</th>\n",
       "      <th class=\"col_heading level0 col3\" >RSS_std_dev</th>\n",
       "      <th class=\"col_heading level0 col4\" >error</th>\n",
       "      <th class=\"col_heading level0 col5\" >num_iterations</th>\n",
       "    </tr>\n",
       "  </thead>\n",
       "  <tbody>\n",
       "    <tr>\n",
       "      <th id=\"T_a597c_level0_row0\" class=\"row_heading level0 row0\" >seed</th>\n",
       "      <td id=\"T_a597c_row0_col0\" class=\"data row0 col0\" >1.000000</td>\n",
       "      <td id=\"T_a597c_row0_col1\" class=\"data row0 col1\" >-0.030000</td>\n",
       "      <td id=\"T_a597c_row0_col2\" class=\"data row0 col2\" >0.010000</td>\n",
       "      <td id=\"T_a597c_row0_col3\" class=\"data row0 col3\" >-0.000000</td>\n",
       "      <td id=\"T_a597c_row0_col4\" class=\"data row0 col4\" >-0.100000</td>\n",
       "      <td id=\"T_a597c_row0_col5\" class=\"data row0 col5\" >0.010000</td>\n",
       "    </tr>\n",
       "    <tr>\n",
       "      <th id=\"T_a597c_level0_row1\" class=\"row_heading level0 row1\" >num_sensors</th>\n",
       "      <td id=\"T_a597c_row1_col0\" class=\"data row1 col0\" >-0.030000</td>\n",
       "      <td id=\"T_a597c_row1_col1\" class=\"data row1 col1\" >1.000000</td>\n",
       "      <td id=\"T_a597c_row1_col2\" class=\"data row1 col2\" >-0.230000</td>\n",
       "      <td id=\"T_a597c_row1_col3\" class=\"data row1 col3\" >-0.000000</td>\n",
       "      <td id=\"T_a597c_row1_col4\" class=\"data row1 col4\" >-0.380000</td>\n",
       "      <td id=\"T_a597c_row1_col5\" class=\"data row1 col5\" >0.530000</td>\n",
       "    </tr>\n",
       "    <tr>\n",
       "      <th id=\"T_a597c_level0_row2\" class=\"row_heading level0 row2\" >connection_distance</th>\n",
       "      <td id=\"T_a597c_row2_col0\" class=\"data row2 col0\" >0.010000</td>\n",
       "      <td id=\"T_a597c_row2_col1\" class=\"data row2 col1\" >-0.230000</td>\n",
       "      <td id=\"T_a597c_row2_col2\" class=\"data row2 col2\" >1.000000</td>\n",
       "      <td id=\"T_a597c_row2_col3\" class=\"data row2 col3\" >-0.000000</td>\n",
       "      <td id=\"T_a597c_row2_col4\" class=\"data row2 col4\" >0.070000</td>\n",
       "      <td id=\"T_a597c_row2_col5\" class=\"data row2 col5\" >-0.170000</td>\n",
       "    </tr>\n",
       "    <tr>\n",
       "      <th id=\"T_a597c_level0_row3\" class=\"row_heading level0 row3\" >RSS_std_dev</th>\n",
       "      <td id=\"T_a597c_row3_col0\" class=\"data row3 col0\" >-0.000000</td>\n",
       "      <td id=\"T_a597c_row3_col1\" class=\"data row3 col1\" >-0.000000</td>\n",
       "      <td id=\"T_a597c_row3_col2\" class=\"data row3 col2\" >-0.000000</td>\n",
       "      <td id=\"T_a597c_row3_col3\" class=\"data row3 col3\" >1.000000</td>\n",
       "      <td id=\"T_a597c_row3_col4\" class=\"data row3 col4\" >0.020000</td>\n",
       "      <td id=\"T_a597c_row3_col5\" class=\"data row3 col5\" >-0.010000</td>\n",
       "    </tr>\n",
       "    <tr>\n",
       "      <th id=\"T_a597c_level0_row4\" class=\"row_heading level0 row4\" >error</th>\n",
       "      <td id=\"T_a597c_row4_col0\" class=\"data row4 col0\" >-0.100000</td>\n",
       "      <td id=\"T_a597c_row4_col1\" class=\"data row4 col1\" >-0.380000</td>\n",
       "      <td id=\"T_a597c_row4_col2\" class=\"data row4 col2\" >0.070000</td>\n",
       "      <td id=\"T_a597c_row4_col3\" class=\"data row4 col3\" >0.020000</td>\n",
       "      <td id=\"T_a597c_row4_col4\" class=\"data row4 col4\" >1.000000</td>\n",
       "      <td id=\"T_a597c_row4_col5\" class=\"data row4 col5\" >-0.070000</td>\n",
       "    </tr>\n",
       "    <tr>\n",
       "      <th id=\"T_a597c_level0_row5\" class=\"row_heading level0 row5\" >num_iterations</th>\n",
       "      <td id=\"T_a597c_row5_col0\" class=\"data row5 col0\" >0.010000</td>\n",
       "      <td id=\"T_a597c_row5_col1\" class=\"data row5 col1\" >0.530000</td>\n",
       "      <td id=\"T_a597c_row5_col2\" class=\"data row5 col2\" >-0.170000</td>\n",
       "      <td id=\"T_a597c_row5_col3\" class=\"data row5 col3\" >-0.010000</td>\n",
       "      <td id=\"T_a597c_row5_col4\" class=\"data row5 col4\" >-0.070000</td>\n",
       "      <td id=\"T_a597c_row5_col5\" class=\"data row5 col5\" >1.000000</td>\n",
       "    </tr>\n",
       "  </tbody>\n",
       "</table>\n"
      ],
      "text/plain": [
       "<pandas.io.formats.style.Styler at 0x7f5e92c8efd0>"
      ]
     },
     "execution_count": 12,
     "metadata": {},
     "output_type": "execute_result"
    }
   ],
   "source": [
    "threshold = 0.3\n",
    "ist_ns.drop(columns=['stubborn']).corr().round(2).style.applymap(lambda x: style_pd(x, threshold))"
   ]
  },
  {
   "cell_type": "code",
   "execution_count": null,
   "metadata": {},
   "outputs": [],
   "source": []
  }
 ],
 "metadata": {
  "kernelspec": {
   "display_name": "Python 3 (ipykernel)",
   "language": "python",
   "name": "python3"
  },
  "language_info": {
   "codemirror_mode": {
    "name": "ipython",
    "version": 3
   },
   "file_extension": ".py",
   "mimetype": "text/x-python",
   "name": "python",
   "nbconvert_exporter": "python",
   "pygments_lexer": "ipython3",
   "version": "3.8.10"
  }
 },
 "nbformat": 4,
 "nbformat_minor": 1
}
